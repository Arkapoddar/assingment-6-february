{
 "cells": [
  {
   "cell_type": "code",
   "execution_count": 8,
   "id": "1962c0bc-b55c-4df7-b9d0-bb74f0433adc",
   "metadata": {},
   "outputs": [
    {
     "name": "stdout",
     "output_type": "stream",
     "text": [
      "\n"
     ]
    }
   ],
   "source": [
    "#1>\n",
    "def multiply_numbers(lst):\n",
    "    # flatten the list\n",
    "    flattened_lst = []\n",
    "    for item in lst:\n",
    "        if isinstance(item, (list, tuple, set)):\n",
    "            flattened_lst.extend(item)\n",
    "        elif isinstance(item, dict):\n",
    "            for key, value in item.items():\n",
    "                if isinstance(key, (int, float)):\n",
    "                    flattened_lst.append(key)\n",
    "                if isinstance(value, (int, float)):\n",
    "                    flattened_lst.append(value)\n",
    "        elif isinstance(item, (int, float)):\n",
    "            flattened_lst.append(item)\n",
    "\n",
    "    # calculate the product of all numbers in the flattened list\n",
    "    product = 1\n",
    "    for num in flattened_lst:\n",
    "        product *= num\n",
    "\n",
    "    return product\n",
    "\n",
    "list1 = [1,2,3,4, [44,55,66, True], False, (34,56,78,89,34), {1,2,3,3,2,1}, {1:34, \"key2\": [55, 67, 78, 89], 4: (45, 22, 61, 34)}, [56, 'data science'], 'Machine Learning']\n",
    "\n",
    "result = multiply_numbers(list1)\n",
    "print(result)\n"
   ]
  },
  {
   "cell_type": "code",
   "execution_count": 9,
   "id": "676e757b-f4cc-4978-b830-10369f73580d",
   "metadata": {},
   "outputs": [],
   "source": [
    "#2>\n",
    "def encrypt(message):\n",
    "    # Convert the message to lowercase\n",
    "    message = message.lower()\n",
    "    # Define a dictionary for the letter substitutions\n",
    "    substitutions = {\n",
    "        'a': 'z',\n",
    "        'b': 'y',\n",
    "        'c': 'x',\n",
    "        'd': 'w',\n",
    "        'e': 'v',\n",
    "        'f': 'u',\n",
    "        'g': 't',\n",
    "        'h': 's',\n",
    "        'i': 'r',\n",
    "        'j': 'q',\n",
    "        'k': 'p',\n",
    "        'l': 'o',\n",
    "        'm': 'n',\n",
    "        'n': 'm',\n",
    "        'o': 'l',\n",
    "        'p': 'k',\n",
    "        'q': 'j',\n",
    "        'r': 'i',\n",
    "        's': 'h',\n",
    "        't': 'g',\n",
    "        'u': 'f',\n",
    "        'v': 'e',\n",
    "        'w': 'd',\n",
    "        'x': 'c',\n",
    "        'y': 'b',\n",
    "        'z': 'a'\n",
    "    }\n",
    "    # Replace each letter with its corresponding substitution\n",
    "    encrypted_message = ''\n",
    "    for letter in message:\n",
    "        if letter in substitutions:\n",
    "            encrypted_message += substitutions[letter]\n",
    "        else:\n",
    "            encrypted_message += letter\n",
    "    # Replace whitespace with a dollar sign\n",
    "    encrypted_message = encrypted_message.replace(' ', '$')\n",
    "    # Return the encrypted message\n",
    "    return encrypted_message\n"
   ]
  },
  {
   "cell_type": "code",
   "execution_count": 10,
   "id": "b0d25ad6-df32-4623-9545-0b1c2db01c20",
   "metadata": {},
   "outputs": [
    {
     "name": "stdout",
     "output_type": "stream",
     "text": [
      "r$dzmg$gl$yvxlnv$z$wzgz$hxrvmgrhg.\n"
     ]
    }
   ],
   "source": [
    "input_sentence = \"I want to become a Data Scientist.\"\n",
    "encrypted_sentence = encrypt(input_sentence)\n",
    "print(encrypted_sentence)\n"
   ]
  },
  {
   "cell_type": "code",
   "execution_count": null,
   "id": "5ddd466b-b30c-4d77-95ce-0f8b971810dc",
   "metadata": {},
   "outputs": [],
   "source": []
  }
 ],
 "metadata": {
  "kernelspec": {
   "display_name": "Python 3 (ipykernel)",
   "language": "python",
   "name": "python3"
  },
  "language_info": {
   "codemirror_mode": {
    "name": "ipython",
    "version": 3
   },
   "file_extension": ".py",
   "mimetype": "text/x-python",
   "name": "python",
   "nbconvert_exporter": "python",
   "pygments_lexer": "ipython3",
   "version": "3.10.8"
  }
 },
 "nbformat": 4,
 "nbformat_minor": 5
}
